{
 "cells": [
  {
   "cell_type": "code",
   "execution_count": null,
   "metadata": {},
   "outputs": [],
   "source": []
  },
  {
   "cell_type": "markdown",
   "metadata": {},
   "source": [
    "# .py version"
   ]
  },
  {
   "cell_type": "code",
   "execution_count": 1,
   "metadata": {},
   "outputs": [
    {
     "ename": "RuntimeError",
     "evalue": "asyncio.run() cannot be called from a running event loop",
     "output_type": "error",
     "traceback": [
      "\u001b[0;31m---------------------------------------------------------------------------\u001b[0m",
      "\u001b[0;31mRuntimeError\u001b[0m                              Traceback (most recent call last)",
      "\u001b[1;32m/Users/gcm/Desktop/opensky-api-master/python/weather/AVWX.ipynb Cell 1\u001b[0m line \u001b[0;36m2\n\u001b[1;32m     <a href='vscode-notebook-cell:/Users/gcm/Desktop/opensky-api-master/python/weather/AVWX.ipynb#W0sZmlsZQ%3D%3D?line=23'>24</a>\u001b[0m             \u001b[39mprint\u001b[39m(\u001b[39mf\u001b[39m\u001b[39m\"\u001b[39m\u001b[39mFailed to fetch TAF data for \u001b[39m\u001b[39m{\u001b[39;00mairport_code\u001b[39m}\u001b[39;00m\u001b[39m\\n\u001b[39;00m\u001b[39m\"\u001b[39m)\n\u001b[1;32m     <a href='vscode-notebook-cell:/Users/gcm/Desktop/opensky-api-master/python/weather/AVWX.ipynb#W0sZmlsZQ%3D%3D?line=25'>26</a>\u001b[0m \u001b[39m# Example usage:\u001b[39;00m\n\u001b[0;32m---> <a href='vscode-notebook-cell:/Users/gcm/Desktop/opensky-api-master/python/weather/AVWX.ipynb#W0sZmlsZQ%3D%3D?line=26'>27</a>\u001b[0m fetch_airport_data([\u001b[39m'\u001b[39;49m\u001b[39mKJFK\u001b[39;49m\u001b[39m'\u001b[39;49m, \u001b[39m'\u001b[39;49m\u001b[39mPHNL\u001b[39;49m\u001b[39m'\u001b[39;49m])\n",
      "\u001b[1;32m/Users/gcm/Desktop/opensky-api-master/python/weather/AVWX.ipynb Cell 1\u001b[0m line \u001b[0;36m7\n\u001b[1;32m      <a href='vscode-notebook-cell:/Users/gcm/Desktop/opensky-api-master/python/weather/AVWX.ipynb#W0sZmlsZQ%3D%3D?line=3'>4</a>\u001b[0m \u001b[39mfor\u001b[39;00m airport_code \u001b[39min\u001b[39;00m airport_codes:\n\u001b[1;32m      <a href='vscode-notebook-cell:/Users/gcm/Desktop/opensky-api-master/python/weather/AVWX.ipynb#W0sZmlsZQ%3D%3D?line=4'>5</a>\u001b[0m     \u001b[39m# Fetch METAR data\u001b[39;00m\n\u001b[1;32m      <a href='vscode-notebook-cell:/Users/gcm/Desktop/opensky-api-master/python/weather/AVWX.ipynb#W0sZmlsZQ%3D%3D?line=5'>6</a>\u001b[0m     metar \u001b[39m=\u001b[39m avwx\u001b[39m.\u001b[39mMetar(airport_code)\n\u001b[0;32m----> <a href='vscode-notebook-cell:/Users/gcm/Desktop/opensky-api-master/python/weather/AVWX.ipynb#W0sZmlsZQ%3D%3D?line=6'>7</a>\u001b[0m     \u001b[39mif\u001b[39;00m metar\u001b[39m.\u001b[39;49mupdate():\n\u001b[1;32m      <a href='vscode-notebook-cell:/Users/gcm/Desktop/opensky-api-master/python/weather/AVWX.ipynb#W0sZmlsZQ%3D%3D?line=7'>8</a>\u001b[0m         \u001b[39mprint\u001b[39m(\u001b[39mf\u001b[39m\u001b[39m\"\u001b[39m\u001b[39mMETAR for \u001b[39m\u001b[39m{\u001b[39;00mairport_code\u001b[39m}\u001b[39;00m\u001b[39m (\u001b[39m\u001b[39m{\u001b[39;00mmetar\u001b[39m.\u001b[39mstation\u001b[39m.\u001b[39mname\u001b[39m}\u001b[39;00m\u001b[39m):\u001b[39m\u001b[39m\"\u001b[39m)\n\u001b[1;32m      <a href='vscode-notebook-cell:/Users/gcm/Desktop/opensky-api-master/python/weather/AVWX.ipynb#W0sZmlsZQ%3D%3D?line=8'>9</a>\u001b[0m         \u001b[39mprint\u001b[39m(\u001b[39mf\u001b[39m\u001b[39m\"\u001b[39m\u001b[39mRaw METAR: \u001b[39m\u001b[39m{\u001b[39;00mmetar\u001b[39m.\u001b[39mraw\u001b[39m}\u001b[39;00m\u001b[39m\"\u001b[39m)\n",
      "File \u001b[0;32m~/opt/anaconda3/envs/developer/lib/python3.9/site-packages/avwx/base.py:152\u001b[0m, in \u001b[0;36mManagedReport.update\u001b[0;34m(self, timeout, disable_post)\u001b[0m\n\u001b[1;32m    147\u001b[0m \u001b[39mdef\u001b[39;00m \u001b[39mupdate\u001b[39m(\u001b[39mself\u001b[39m, timeout: \u001b[39mint\u001b[39m \u001b[39m=\u001b[39m \u001b[39m10\u001b[39m, disable_post: \u001b[39mbool\u001b[39m \u001b[39m=\u001b[39m \u001b[39mFalse\u001b[39;00m) \u001b[39m-\u001b[39m\u001b[39m>\u001b[39m \u001b[39mbool\u001b[39m:\n\u001b[1;32m    148\u001b[0m \u001b[39m    \u001b[39m\u001b[39m\"\"\"Updates report data by fetching and parsing the report\u001b[39;00m\n\u001b[1;32m    149\u001b[0m \n\u001b[1;32m    150\u001b[0m \u001b[39m    Returns True if a new report is available, else False\u001b[39;00m\n\u001b[1;32m    151\u001b[0m \u001b[39m    \"\"\"\u001b[39;00m\n\u001b[0;32m--> 152\u001b[0m     report \u001b[39m=\u001b[39m \u001b[39mself\u001b[39;49m\u001b[39m.\u001b[39;49mservice\u001b[39m.\u001b[39;49mfetch(\u001b[39mself\u001b[39;49m\u001b[39m.\u001b[39;49mcode, timeout\u001b[39m=\u001b[39;49mtimeout)  \u001b[39m# type: ignore\u001b[39;00m\n\u001b[1;32m    153\u001b[0m     \u001b[39mself\u001b[39m\u001b[39m.\u001b[39msource \u001b[39m=\u001b[39m \u001b[39mself\u001b[39m\u001b[39m.\u001b[39mservice\u001b[39m.\u001b[39mroot\n\u001b[1;32m    154\u001b[0m     \u001b[39mreturn\u001b[39;00m aio\u001b[39m.\u001b[39mrun(\u001b[39mself\u001b[39m\u001b[39m.\u001b[39m_update(report, \u001b[39mNone\u001b[39;00m, disable_post))\n",
      "File \u001b[0;32m~/opt/anaconda3/envs/developer/lib/python3.9/site-packages/avwx/service/scrape.py:106\u001b[0m, in \u001b[0;36mStationScrape.fetch\u001b[0;34m(self, station, timeout)\u001b[0m\n\u001b[1;32m    100\u001b[0m \u001b[39mdef\u001b[39;00m \u001b[39mfetch\u001b[39m(\n\u001b[1;32m    101\u001b[0m     \u001b[39mself\u001b[39m,\n\u001b[1;32m    102\u001b[0m     station: \u001b[39mstr\u001b[39m,\n\u001b[1;32m    103\u001b[0m     timeout: Optional[\u001b[39mint\u001b[39m] \u001b[39m=\u001b[39m \u001b[39mNone\u001b[39;00m,\n\u001b[1;32m    104\u001b[0m ) \u001b[39m-\u001b[39m\u001b[39m>\u001b[39m \u001b[39mstr\u001b[39m:\n\u001b[1;32m    105\u001b[0m \u001b[39m    \u001b[39m\u001b[39m\"\"\"Fetches a report string from the service\"\"\"\u001b[39;00m\n\u001b[0;32m--> 106\u001b[0m     \u001b[39mreturn\u001b[39;00m aio\u001b[39m.\u001b[39;49mrun(\u001b[39mself\u001b[39;49m\u001b[39m.\u001b[39;49masync_fetch(station, timeout))\n",
      "File \u001b[0;32m~/opt/anaconda3/envs/developer/lib/python3.9/asyncio/runners.py:33\u001b[0m, in \u001b[0;36mrun\u001b[0;34m(main, debug)\u001b[0m\n\u001b[1;32m      9\u001b[0m \u001b[39m\u001b[39m\u001b[39m\"\"\"Execute the coroutine and return the result.\u001b[39;00m\n\u001b[1;32m     10\u001b[0m \n\u001b[1;32m     11\u001b[0m \u001b[39mThis function runs the passed coroutine, taking care of\u001b[39;00m\n\u001b[0;32m   (...)\u001b[0m\n\u001b[1;32m     30\u001b[0m \u001b[39m    asyncio.run(main())\u001b[39;00m\n\u001b[1;32m     31\u001b[0m \u001b[39m\"\"\"\u001b[39;00m\n\u001b[1;32m     32\u001b[0m \u001b[39mif\u001b[39;00m events\u001b[39m.\u001b[39m_get_running_loop() \u001b[39mis\u001b[39;00m \u001b[39mnot\u001b[39;00m \u001b[39mNone\u001b[39;00m:\n\u001b[0;32m---> 33\u001b[0m     \u001b[39mraise\u001b[39;00m \u001b[39mRuntimeError\u001b[39;00m(\n\u001b[1;32m     34\u001b[0m         \u001b[39m\"\u001b[39m\u001b[39masyncio.run() cannot be called from a running event loop\u001b[39m\u001b[39m\"\u001b[39m)\n\u001b[1;32m     36\u001b[0m \u001b[39mif\u001b[39;00m \u001b[39mnot\u001b[39;00m coroutines\u001b[39m.\u001b[39miscoroutine(main):\n\u001b[1;32m     37\u001b[0m     \u001b[39mraise\u001b[39;00m \u001b[39mValueError\u001b[39;00m(\u001b[39m\"\u001b[39m\u001b[39ma coroutine was expected, got \u001b[39m\u001b[39m{!r}\u001b[39;00m\u001b[39m\"\u001b[39m\u001b[39m.\u001b[39mformat(main))\n",
      "\u001b[0;31mRuntimeError\u001b[0m: asyncio.run() cannot be called from a running event loop"
     ]
    }
   ],
   "source": [
    "import avwx\n",
    "\n",
    "def fetch_airport_data(airport_codes):\n",
    "    for airport_code in airport_codes:\n",
    "        # Fetch METAR data\n",
    "        metar = avwx.Metar(airport_code)\n",
    "        if metar.update():\n",
    "            print(f\"METAR for {airport_code} ({metar.station.name}):\")\n",
    "            print(f\"Raw METAR: {metar.raw}\")\n",
    "            print(f\"Flight Rules: {metar.data.flight_rules}\")\n",
    "            print(f\"Summary: {metar.summary}\\n\")\n",
    "        else:\n",
    "            print(f\"Failed to fetch METAR data for {airport_code}\\n\")\n",
    "\n",
    "        # Fetch TAF data\n",
    "        taf = avwx.Taf(airport_code)\n",
    "        if taf.update():\n",
    "            print(f\"TAF for {airport_code}:\")\n",
    "            print(f\"Raw TAF: {taf.raw}\")\n",
    "            for line in taf.data.forecast:\n",
    "                print(f\"{line.flight_rules} from {line.start_time.dt.strftime('%d-%H:%M')} to {line.end_time.dt.strftime('%d-%H:%M')}\")\n",
    "            print(\"\\n\")\n",
    "        else:\n",
    "            print(f\"Failed to fetch TAF data for {airport_code}\\n\")\n",
    "\n",
    "# Example usage:\n",
    "fetch_airport_data(['KHHR', 'KSBA', 'KSQL', 'KTRK'])\n"
   ]
  },
  {
   "cell_type": "markdown",
   "metadata": {},
   "source": [
    "# notebook version"
   ]
  },
  {
   "cell_type": "code",
   "execution_count": null,
   "metadata": {},
   "outputs": [
    {
     "name": "stdout",
     "output_type": "stream",
     "text": [
      "METAR for KHHR (Jack Northrop Field Hawthorne Municipal Airport):\n",
      "Raw METAR: KHHR 111953Z VRB06KT 10SM CLR 32/17 A2992 RMK AO2 SLP129 T03170167 $\n",
      "Flight Rules: VFR\n",
      "Summary: Winds Variable at 6kt, Vis 10sm, Temp 32°C, Dew 17°C, Alt 29.92 inHg, Sky clear\n",
      "\n",
      "Failed to fetch TAF data for KHHR\n",
      "\n",
      "METAR for KSBA (Santa Barbara Municipal Airport):\n",
      "Raw METAR: KSBA 111953Z 21008KT 8SM CLR 27/18 A2992 RMK AO2 SLP130 T02670183 $\n",
      "Flight Rules: VFR\n",
      "Summary: Winds SSW-210 at 8kt, Vis 8sm, Temp 27°C, Dew 18°C, Alt 29.92 inHg, Sky clear\n",
      "\n",
      "TAF for KSBA:\n",
      "Raw TAF: KSBA 111744Z 1118/1218 15004KT P6SM VCSH BKN120 FM112100 24008KT P6SM VCSH BKN120 FM120100 17005KT P6SM SCT150 FM120500 VRB03KT P6SM SKC FM121500 14005KT P6SM SKC\n",
      "VFR from 11-18:00 to 11-21:00\n",
      "VFR from 11-21:00 to 12-01:00\n",
      "VFR from 12-01:00 to 12-05:00\n",
      "VFR from 12-05:00 to 12-15:00\n",
      "VFR from 12-15:00 to 12-18:00\n",
      "\n",
      "\n",
      "METAR for KSQL (San Carlos Airport):\n",
      "Raw METAR: KSQL 111947Z 36010KT 10SM CLR 23/15 A2999\n",
      "Flight Rules: VFR\n",
      "Summary: Winds N-360 at 10kt, Vis 10sm, Temp 23°C, Dew 15°C, Alt 29.99 inHg, Sky clear\n",
      "\n",
      "Failed to fetch TAF data for KSQL\n",
      "\n",
      "METAR for KTRK (Truckee Tahoe Airport):\n",
      "Raw METAR: KTRK 111948Z VRB03KT 10SM SCT085 24/04 A3021\n",
      "Flight Rules: VFR\n",
      "Summary: Winds Variable at 3kt, Vis 10sm, Temp 24°C, Dew 4°C, Alt 30.21 inHg, Scattered clouds at 8500ft\n",
      "\n",
      "TAF for KTRK:\n",
      "Raw TAF: KTRK 111720Z 1118/1218 VRB03KT P6SM SKC FM112000 25009G18KT P6SM FEW100 FM120200 VRB04KT P6SM FEW250 FM121200 00000KT P6SM VCFG SCT003 FM121500 VRB03KT P6SM SCT250\n",
      "VFR from 11-18:00 to 11-20:00\n",
      "VFR from 11-20:00 to 12-02:00\n",
      "VFR from 12-02:00 to 12-12:00\n",
      "VFR from 12-12:00 to 12-15:00\n",
      "VFR from 12-15:00 to 12-18:00\n",
      "\n",
      "\n"
     ]
    }
   ],
   "source": [
    "# Notebook version (async errors in notebooks/interactive environments)\n",
    "import avwx\n",
    "import asyncio\n",
    "\n",
    "async def fetch_airport_data_async(airport_codes):\n",
    "    for airport_code in airport_codes:\n",
    "        # Fetch METAR data\n",
    "        metar = avwx.Metar(airport_code)\n",
    "        if await metar.async_update():\n",
    "            print(f\"METAR for {airport_code} ({metar.station.name}):\")\n",
    "            print(f\"Raw METAR: {metar.raw}\")\n",
    "            print(f\"Flight Rules: {metar.data.flight_rules}\")\n",
    "            print(f\"Summary: {metar.summary}\\n\")\n",
    "        else:\n",
    "            print(f\"Failed to fetch METAR data for {airport_code}\\n\")\n",
    "\n",
    "        # Fetch TAF data\n",
    "        taf = avwx.Taf(airport_code)\n",
    "        if await taf.async_update():\n",
    "            print(f\"TAF for {airport_code}:\")\n",
    "            print(f\"Raw TAF: {taf.raw}\")\n",
    "            for line in taf.data.forecast:\n",
    "                print(f\"{line.flight_rules} from {line.start_time.dt.strftime('%d-%H:%M')} to {line.end_time.dt.strftime('%d-%H:%M')}\")\n",
    "            print(\"\\n\")\n",
    "        else:\n",
    "            print(f\"Failed to fetch TAF data for {airport_code}\\n\")\n",
    "\n",
    "# To run the function in Jupyter or a similar environment:\n",
    "await fetch_airport_data_async(['KHHR', 'KSBA', 'KSQL', 'KTRK'])\n"
   ]
  },
  {
   "cell_type": "code",
   "execution_count": 1,
   "metadata": {},
   "outputs": [
    {
     "name": "stdout",
     "output_type": "stream",
     "text": [
      "Data saved to 'airport_data.html' and 'airport_data.xlsx'\n"
     ]
    }
   ],
   "source": [
    "import avwx\n",
    "import asyncio\n",
    "import pandas as pd\n",
    "\n",
    "async def fetch_and_save_airport_data(airport_codes):\n",
    "    all_data = []\n",
    "    \n",
    "    for airport_code in airport_codes:\n",
    "        # Fetch METAR data\n",
    "        metar = avwx.Metar(airport_code)\n",
    "        if await metar.async_update():\n",
    "            summary = metar.summary\n",
    "            flight_rules = metar.data.flight_rules\n",
    "        else:\n",
    "            summary = \"Failed to fetch METAR data\"\n",
    "            flight_rules = \"Unknown\"\n",
    "        \n",
    "        # Decide weather condition\n",
    "        if flight_rules == \"VFR\":\n",
    "            condition = \"Good\"\n",
    "        else:\n",
    "            condition = \"Bad\"\n",
    "        \n",
    "        all_data.append({\n",
    "            'Airport Code': airport_code,\n",
    "            'Station Name': metar.station.name,\n",
    "            'METAR': metar.raw,\n",
    "            'Summary': summary,\n",
    "            'Flight Rules': flight_rules,\n",
    "            'Condition': condition\n",
    "        })\n",
    "\n",
    "    # Convert to DataFrame for easy saving\n",
    "    df = pd.DataFrame(all_data)\n",
    "    \n",
    "    # Save to HTML\n",
    "    df.to_html('airport_data.html', index=False)\n",
    "    \n",
    "    # Save to Excel\n",
    "    df.to_excel('airport_data.xlsx', index=False, engine='openpyxl')\n",
    "\n",
    "    print(\"Data saved to 'airport_data.html' and 'airport_data.xlsx'\")\n",
    "\n",
    "# Run the function\n",
    "await fetch_and_save_airport_data(['KHHR', 'KSBA', 'KSQL', 'KTRK'])\n"
   ]
  },
  {
   "cell_type": "code",
   "execution_count": null,
   "metadata": {},
   "outputs": [],
   "source": []
  }
 ],
 "metadata": {
  "kernelspec": {
   "display_name": "dev",
   "language": "python",
   "name": "python3"
  },
  "language_info": {
   "codemirror_mode": {
    "name": "ipython",
    "version": 3
   },
   "file_extension": ".py",
   "mimetype": "text/x-python",
   "name": "python",
   "nbconvert_exporter": "python",
   "pygments_lexer": "ipython3",
   "version": "3.9.17"
  },
  "orig_nbformat": 4
 },
 "nbformat": 4,
 "nbformat_minor": 2
}
