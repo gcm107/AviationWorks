{
 "cells": [
  {
   "cell_type": "code",
   "execution_count": 2,
   "metadata": {},
   "outputs": [
    {
     "name": "stdout",
     "output_type": "stream",
     "text": [
      "None\n",
      "No states found for the given icao24 list.\n"
     ]
    }
   ],
   "source": [
    "from opensky_api import OpenSkyApi\n",
    "import folium\n",
    "\n",
    "# dont screw me here pls\n",
    "# Replace with your OpenSky credentials\n",
    "api = OpenSkyApi('JetRider', 'wiwnib-bizsez-5daTjo') \n",
    "\n",
    "\n",
    "\n",
    "# Provided tail numbers and their corresponding Mode S/ICAO24 codes\n",
    "# TAIL_NUMBER_TO_ICAO24 = {\n",
    "#     \"N874SA\": \"ac06C3\",\n",
    "#     \"N853SA\": \"abb40e\",\n",
    "#     \"N828SA\": \"ab5024\",\n",
    "#     \"N821SA\": \"ab3623\"\n",
    "# }\n",
    "\n",
    "\n",
    "# List of icao24 codes for the aircrafts you are interested in\n",
    "icao24_list = ['ac06C3']\n",
    "\n",
    "# Get the states of the aircrafts in the icao24 list\n",
    "states = api.get_states(icao24=icao24_list)\n",
    "\n",
    "# Get the flight data by aircraft for the time interval mentioned\n",
    "flights_by_aircraft = api.get_flights_by_aircraft(icao24_list, 1517227200, 1517230800)\n",
    "print(flights_by_aircraft)\n",
    "\n",
    "# Check if we have any states\n",
    "if states and states.states:\n",
    "    for s in states.states:\n",
    "        # Set the current state\n",
    "        current_state = s\n",
    "        print('Current Position')\n",
    "        print(current_state)\n",
    "\n",
    "    # Get the track of a specific aircraft (I noticed you used a different icao24 here, adjust as necessary)\n",
    "    track = api.get_track_by_aircraft(\"a0fe7a\")\n",
    "    print('Track')\n",
    "    print(track)\n",
    "\n",
    "    # Get the path data from the track\n",
    "    path_data = track.path\n",
    "\n",
    "    # Extract latitudes and longitudes from the path data\n",
    "    latitudes = [point[1] for point in path_data]\n",
    "    longitudes = [point[2] for point in path_data]\n",
    "\n",
    "    # Calculate the average latitude and longitude to center the map\n",
    "    avg_latitude = sum(latitudes) / len(latitudes)\n",
    "    avg_longitude = sum(longitudes) / len(longitudes)\n",
    "\n",
    "    # Create a map centered around the average latitude and longitude\n",
    "    m = folium.Map(location=[avg_latitude, avg_longitude], zoom_start=8)\n",
    "\n",
    "    # Plot the flight path on the map\n",
    "    flight_path = list(zip(latitudes, longitudes))\n",
    "    folium.PolyLine(flight_path, color=\"blue\", weight=2.5, opacity=1).add_to(m)\n",
    "\n",
    "    # Add a marker for the current position of the aircraft\n",
    "    current_position = {\n",
    "        'latitude': current_state.latitude,\n",
    "        'longitude': current_state.longitude\n",
    "    }\n",
    "    folium.Marker([current_position['latitude'], current_position['longitude']], tooltip=\"Current Position\").add_to(m)\n",
    "\n",
    "    # Display the map\n",
    "    m\n",
    "else:\n",
    "    print(\"No states found for the given icao24 list.\")\n",
    "\n"
   ]
  },
  {
   "cell_type": "code",
   "execution_count": null,
   "metadata": {},
   "outputs": [],
   "source": []
  }
 ],
 "metadata": {
  "kernelspec": {
   "display_name": "developer",
   "language": "python",
   "name": "python3"
  },
  "language_info": {
   "codemirror_mode": {
    "name": "ipython",
    "version": 3
   },
   "file_extension": ".py",
   "mimetype": "text/x-python",
   "name": "python",
   "nbconvert_exporter": "python",
   "pygments_lexer": "ipython3",
   "version": "3.9.17"
  },
  "orig_nbformat": 4
 },
 "nbformat": 4,
 "nbformat_minor": 2
}
